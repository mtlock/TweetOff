{
 "cells": [
  {
   "cell_type": "code",
   "execution_count": null,
   "metadata": {
    "collapsed": true
   },
   "outputs": [],
   "source": [
    "import pandas as pd\n",
    "import numpy as np\n",
    "from datetime import datetime,timedelta\n",
    "from dateutil import parser\n",
    "import pickle\n",
    "import re\n",
    "import random"
   ]
  },
  {
   "cell_type": "code",
   "execution_count": null,
   "metadata": {
    "collapsed": true
   },
   "outputs": [],
   "source": [
    "import nltk\n",
    "from nltk.stem import PorterStemmer\n",
    "stemmer = PorterStemmer()"
   ]
  },
  {
   "cell_type": "markdown",
   "metadata": {},
   "source": [
    "# Pull tweet data from database"
   ]
  },
  {
   "cell_type": "code",
   "execution_count": null,
   "metadata": {
    "collapsed": true
   },
   "outputs": [],
   "source": [
    "dbname = '***'\n",
    "username = '***'"
   ]
  },
  {
   "cell_type": "code",
   "execution_count": null,
   "metadata": {
    "collapsed": true
   },
   "outputs": [],
   "source": [
    "engine = create_engine('postgres://%s@localhost/%s'%(username,dbname))"
   ]
  },
  {
   "cell_type": "code",
   "execution_count": null,
   "metadata": {
    "collapsed": true
   },
   "outputs": [],
   "source": [
    "con = None\n",
    "con = psycopg2.connect(database = dbname, user = username)\n",
    "\n",
    "sql_query = \"\"\"\n",
    "SELECT * FROM raw_tweet_table;\n",
    "\"\"\"\n",
    "df = pd.read_sql_query(sql_query,con)\n",
    "#df is a dataframe with columns 'created_at','text' and 'hashtags'"
   ]
  },
  {
   "cell_type": "markdown",
   "metadata": {},
   "source": [
    "# Take dataframe of those with exactly one hashtag"
   ]
  },
  {
   "cell_type": "code",
   "execution_count": null,
   "metadata": {
    "collapsed": true
   },
   "outputs": [],
   "source": [
    "#currently hashtags are 1 string separated with a space\n",
    "#split into lists\n",
    "df['hashtags']=df['hashtags'].str.split()"
   ]
  },
  {
   "cell_type": "code",
   "execution_count": null,
   "metadata": {
    "collapsed": true
   },
   "outputs": [],
   "source": [
    "df = df[[df['hashtags'].map(len)==1]]"
   ]
  },
  {
   "cell_type": "markdown",
   "metadata": {},
   "source": [
    "# Processing"
   ]
  },
  {
   "cell_type": "code",
   "execution_count": null,
   "metadata": {
    "collapsed": false
   },
   "outputs": [],
   "source": [
    "#negate words between negative word and next punctuation by appending _neg\n",
    "def negation_process(tweet):\n",
    "    #add final period to ensure negation if no final punctuation\n",
    "    tweet = tweet + '.'\n",
    "    tweet = re.sub(r'\\b(?:never|no|nothing|nowhere|noone|none|not|havent|hasnt|hadnt|cant|couldnt|shouldnt|wont|wouldnt|dont|doesnt|didnt|isnt|arent|aint)\\b[\\w\\s]+[^\\w\\s]', \n",
    "       lambda match: re.sub(r'(\\s+)(\\w+)', r'\\1neg_\\2', match.group(0)), tweet,flags=re.IGNORECASE)\n",
    "    #return tweet[:-1] to remove added period\n",
    "    return tweet[:-1]\n",
    "    "
   ]
  },
  {
   "cell_type": "code",
   "execution_count": null,
   "metadata": {
    "collapsed": true
   },
   "outputs": [],
   "source": [
    "#Porter stemming\n",
    "def stemming(tweet):\n",
    "    temp = []\n",
    "    for word in tweet.split():\n",
    "        temp.append(stemmer.stem(word.lower()))\n",
    "    return ' '.join(temp)"
   ]
  },
  {
   "cell_type": "code",
   "execution_count": null,
   "metadata": {
    "collapsed": false
   },
   "outputs": [],
   "source": [
    "#primary text processing\n",
    "def process_text(tweet_list):\n",
    "    processed_tweets = []\n",
    "    for tweet in tweet_list:\n",
    "        tweet = re.sub(r\"(?:\\@|https?\\://|#)\\S+\", \"\", tweet)\n",
    "        tweet = tweet.replace('\\'','')\n",
    "        #negate\n",
    "        tweet = negation_process(tweet)\n",
    "        #replace non ascii characters\n",
    "        tweet = re.sub(r'[^\\x00-\\x7F]+',' ', tweet)\n",
    "        tweet = tweet.replace('RT','')\n",
    "        tweet = tweet.replace(':','')\n",
    "        tweet = tweet.replace('+',' ')\n",
    "        tweet = tweet.replace(',','')\n",
    "        tweet = tweet.replace('.','')\n",
    "        tweet = tweet.replace('\\\"','')\n",
    "        #remove duplicate consecutive characters for standardization\n",
    "        tweet = re.sub(r'(\\S)\\1+', r'\\1', tweet)\n",
    "        #add spaces before emotive punctuation, useful for bigrams\n",
    "        tweet = tweet.replace('!',' !')\n",
    "        tweet = tweet.replace('?',' ?')\n",
    "        tweet = tweet.strip()\n",
    "        tweet = stemming(tweet)\n",
    "        processed_tweets.append(tweet)\n",
    "    return processed_tweets"
   ]
  },
  {
   "cell_type": "code",
   "execution_count": null,
   "metadata": {
    "collapsed": false
   },
   "outputs": [],
   "source": [
    "#process twitter text\n",
    "processed_tweets = process_text(df['text'].tolist())\n",
    "df['processed_text'] = processed_tweets"
   ]
  },
  {
   "cell_type": "code",
   "execution_count": null,
   "metadata": {
    "collapsed": false
   },
   "outputs": [],
   "source": [
    "#drop duplicates after processing\n",
    "#processing standardizes so drop full amount of duplicates\n",
    "df = df.drop_duplicates(inplace=False, subset='processed_text')"
   ]
  },
  {
   "cell_type": "markdown",
   "metadata": {},
   "source": [
    "# Export data"
   ]
  },
  {
   "cell_type": "code",
   "execution_count": null,
   "metadata": {
    "collapsed": true
   },
   "outputs": [],
   "source": [
    "#export dataframe with processed tweet data\n",
    "f = open('df_processed_single_hashtag.pickle', 'wb')\n",
    "pickle.dump(df[['created_at','processed_text','hashtags']], f)\n",
    "f.close()"
   ]
  },
  {
   "cell_type": "code",
   "execution_count": null,
   "metadata": {
    "collapsed": true
   },
   "outputs": [],
   "source": []
  }
 ],
 "metadata": {
  "anaconda-cloud": {},
  "kernelspec": {
   "display_name": "Python [Root]",
   "language": "python",
   "name": "Python [Root]"
  },
  "language_info": {
   "codemirror_mode": {
    "name": "ipython",
    "version": 2
   },
   "file_extension": ".py",
   "mimetype": "text/x-python",
   "name": "python",
   "nbconvert_exporter": "python",
   "pygments_lexer": "ipython2",
   "version": "2.7.12"
  }
 },
 "nbformat": 4,
 "nbformat_minor": 0
}
